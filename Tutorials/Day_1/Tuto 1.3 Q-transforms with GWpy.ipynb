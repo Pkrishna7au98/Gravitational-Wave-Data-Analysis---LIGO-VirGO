{
 "cells": [
  {
   "cell_type": "markdown",
   "metadata": {
    "Collapsed": "false",
    "colab_type": "text",
    "id": "atifoWwfyGsl"
   },
   "source": [
    "<img style=\"float: left;padding: 1.3em\" src=\"https://raw.githubusercontent.com/gw-odw/odw-2020/master/share/ligo_virgo_transparent_crop_small.png\">  \n",
    "\n",
    "#  Gravitational Wave Open Data Workshop #4\n",
    "\n",
    "\n",
    "#### Tutorial 1.3: Data representations in GWpy\n",
    "\n",
    "This notebook covers some different ways of representing data, including\n",
    "\n",
    "  - the spectrogram\n",
    "  - the Q-transform\n",
    "\n",
    "with a challenge you can explore for each method. \n",
    "    \n",
    "[Click this link to view this tutorial in Google Colaboratory](https://colab.research.google.com/github/gw-odw/odw-2021/blob/master/Day_1/Tuto%201.3%20Q-transforms%20with%20GWpy.ipynb)"
   ]
  },
  {
   "cell_type": "markdown",
   "metadata": {
    "Collapsed": "false",
    "colab_type": "text",
    "id": "Nhx-YG_4yGso"
   },
   "source": [
    "##  Installation  (execute only if running on a cloud platform, like Google Colab, or if you haven't done the installation already!)\n",
    "\n",
    "Note: we use [`pip`](https://docs.python.org/3.6/installing/), but **it is recommended** to use [conda](https://docs.ligo.org/lscsoft/conda/) on your own machine, as explained in the [installation instructions](https://github.com/gw-odw/odw-2021/blob/master/setup.md). This usage might look a little different than normal, simply because we want to do this directly from the notebook."
   ]
  },
  {
   "cell_type": "code",
   "execution_count": null,
   "metadata": {
    "Collapsed": "false",
    "colab": {
     "base_uri": "https://localhost:8080/",
     "height": 1000
    },
    "colab_type": "code",
    "id": "mTYe65PMyGs3",
    "outputId": "c962691e-6a0d-4e5d-da2a-0888aca6fead"
   },
   "outputs": [],
   "source": [
    "# -- Uncomment following line if running in Google Colab\n",
    "#! pip install -q 'gwpy==2.0.2'"
   ]
  },
  {
   "cell_type": "markdown",
   "metadata": {
    "Collapsed": "false",
    "colab_type": "text",
    "id": "1Pm54C-SyGtB"
   },
   "source": [
    "**Important:** With Google Colab, you may need to restart the runtime after running the cell above."
   ]
  },
  {
   "cell_type": "markdown",
   "metadata": {
    "Collapsed": "false",
    "colab_type": "text",
    "id": "0-D_I1InyGtC"
   },
   "source": [
    "## Initialization"
   ]
  },
  {
   "cell_type": "code",
   "execution_count": null,
   "metadata": {
    "Collapsed": "false",
    "colab": {},
    "colab_type": "code",
    "id": "us0NcVLNyGtD"
   },
   "outputs": [],
   "source": [
    "%matplotlib inline\n",
    "import gwpy"
   ]
  },
  {
   "cell_type": "markdown",
   "metadata": {
    "Collapsed": "false",
    "colab_type": "text",
    "id": "cgy-YL0WyGtG"
   },
   "source": [
    "## Showing the time-evolution of FFTs\n",
    "\n",
    "The FFT, and the ASD, show us a snapshot of the frequency-domain content of our signal, referred to a single time interval.\n",
    "It is commonly useful to show how this frequency-domain content evolves over time.\n",
    "\n",
    "For this we use spectrograms, which show the FFT (or ASD) at each time step on a time-frequency representation.\n",
    "The `TimeSeries` in GWpy includes two methods for this:\n",
    "\n",
    "- [`spectrogram()`](https://gwpy.github.io/docs/stable/api/gwpy.timeseries.TimeSeries.html#gwpy.timeseries.TimeSeries.spectrogram) - which includses a `stride` parameter, and shows an averaged ASD every time interval corresponding to each stride, and \n",
    "- [`spectrogram2()`](https://gwpy.github.io/docs/stable/api/gwpy.timeseries.TimeSeries.html#gwpy.timeseries.TimeSeries.spectrogram2) - shows a single-FFT ASD, defined by its `fftlength`, at each time step. These FFTs can include overlapping segments of tdata, as specified by the `overlap` parameter.\n",
    "\n",
    "Which one should I use? The short answer is use `spectrogram2()` for short(ish) chunks of data, less than a minute or so, and `spectrogram()` for longer chunks where the averaging helps remove very short noise bursts.\n",
    "\n",
    "The long answer is that averaging the FFTs comuted each stride of data reduces the variance of the resulting ASD estimate. However, these averages also reduce the time resolution of the corresponding spectrogram, which is no more `fftlength` $-$ `overlap` but is now determined by the duration of the `stride`. This is called [Welch's spectral density estimation method](https://en.wikipedia.org/wiki/Welch%27s_method). \n",
    "The choice of the overalp is instead determined by how independent we want our FFTs to be (no overlap) and how dense we want them to be (`overlap` equals to a large fraction of `fftlegth`). Refer to this [GWpy example](https://gwpy.github.io/docs/stable/examples/spectrogram/spectrogram2.html) on an over-dense spectrogam of GW150914.\n",
    "\n",
    "First, let's reload our data:"
   ]
  },
  {
   "cell_type": "code",
   "execution_count": null,
   "metadata": {
    "Collapsed": "false",
    "colab": {
     "base_uri": "https://localhost:8080/",
     "height": 173
    },
    "colab_type": "code",
    "id": "Jtaq6lc6yGtH",
    "outputId": "7e9017cd-1b18-487e-b88c-1d3ab2d1d74e"
   },
   "outputs": [],
   "source": [
    "from gwosc.datasets import event_gps\n",
    "from gwpy.timeseries import TimeSeries\n",
    "\n",
    "gps = event_gps('GW170817')\n",
    "print(\"GW170817 GPS:\", gps)\n",
    "\n",
    "ldata = TimeSeries.fetch_open_data('L1', int(gps)-512, int(gps)+512, cache=True)\n",
    "print(\"GW170817 data\")\n",
    "print(ldata)"
   ]
  },
  {
   "cell_type": "markdown",
   "metadata": {
    "Collapsed": "false",
    "colab_type": "text",
    "id": "UhyUTGc2yGtM"
   },
   "source": [
    "Now, we can generate our spectrogram using a specific FFT length (remembering to use a window):\n",
    "\n",
    "<div class=\"alert alert-info\">\n",
    "Each of these methods returns the output as stacked power spectral densities, so we take the square root to get back to a familiar amplitude spectral density\n",
    "</div>"
   ]
  },
  {
   "cell_type": "code",
   "execution_count": null,
   "metadata": {
    "Collapsed": "false",
    "colab": {
     "base_uri": "https://localhost:8080/",
     "height": 396
    },
    "colab_type": "code",
    "id": "3jXQJbvEyGtO",
    "outputId": "56d571f8-22fe-4adc-fffb-974a35c30c6c"
   },
   "outputs": [],
   "source": [
    "specgram = ldata.spectrogram2(fftlength=4, overlap=2, window='hann') ** (1/2.)\n",
    "plot = specgram.plot()"
   ]
  },
  {
   "cell_type": "markdown",
   "metadata": {
    "Collapsed": "false",
    "colab_type": "text",
    "id": "QXjayvFpyGtQ"
   },
   "source": [
    "Hmmm... something's not right. Can you spot the only \"hot\" point in this colormap? Maybe the default scale of the color axis is not suitable to fit the excursion of values in this map. **Pro Tip**: check `specgram.min()` and `specgram.max()` values to see if the previous guess is right or not.\n",
    "\n",
    "We can fix this by passing a few more arguments to our plot to control the display (especially the colouring):"
   ]
  },
  {
   "cell_type": "code",
   "execution_count": null,
   "metadata": {
    "Collapsed": "false",
    "colab": {
     "base_uri": "https://localhost:8080/",
     "height": 403
    },
    "colab_type": "code",
    "id": "RutHrRZtyGtR",
    "outputId": "d769bf41-61dc-4f93-9808-f633f97ae076"
   },
   "outputs": [],
   "source": [
    "ax = plot.gca()\n",
    "ax.set_yscale('log')\n",
    "ax.set_ylim(10, 1400)\n",
    "ax.colorbar(\n",
    "    clim=(1e-24, 1e-20),\n",
    "    norm=\"log\",\n",
    "    label=r\"Strain noise [$1/\\sqrt{\\mathrm{Hz}}$]\",\n",
    ")\n",
    "plot  # refresh"
   ]
  },
  {
   "cell_type": "markdown",
   "metadata": {
    "Collapsed": "false",
    "colab_type": "text",
    "id": "gfjsK2e1yGtT"
   },
   "source": [
    "Here we can see how the ASD for LIGO-Livingston evolves over a ~17 minute span around GW170817. Four order of magnitudes in the ASD intensity are involved, and this is way the previous attempt resulted in a (almost) fully dark blue image.\n",
    "\n",
    "We can see that the low-frequency noise (<30 Hz) rumbles along with some variation, but high frequencies (>100 Hz) are relatively stable. Between 30-100 Hz we can see some narrow features appearing and disappearing as non-stationary noise affects the measurement."
   ]
  },
  {
   "cell_type": "markdown",
   "metadata": {
    "Collapsed": "false",
    "colab_type": "text",
    "id": "3jxcXuR-yGtU"
   },
   "source": [
    "## Spectrogram challenge! \n",
    "\n",
    "- download the data for all three detectors involved with the GW170814 detection, generate a PSD for each, and make a plot\n",
    "- make a spectrogram of data for 10 minutes around the GW170817 detection for the LIGO-Livingston detector"
   ]
  },
  {
   "cell_type": "markdown",
   "metadata": {
    "Collapsed": "false",
    "colab_type": "text",
    "id": "8lxjy7cpyGtU"
   },
   "source": [
    "## Q-transforms in GWpy\n",
    "\n",
    "The spectrogram above is a useful way to show the variation of a power spectral density (PSD) estimate over time. It's best used to see general trends in how the sensitivity of the GW detectors is changing over longish periods (minutes or hours).\n",
    "\n",
    "In this section, we will see how we can use a special filter called a Q-transform to create a time-frequency representation of our data that allows use to pick out features at different frequencies, and how they evolve over very short times, without much prior knowledge of the signal morphology.\n",
    "\n",
    "See [this article](https://doi.org/10.1088/0264-9381/21/20/024) for more details on the Q-transform and its application to gravitational-wave data."
   ]
  },
  {
   "cell_type": "markdown",
   "metadata": {
    "Collapsed": "false",
    "colab_type": "text",
    "id": "uIB4vOsQyGtW"
   },
   "source": [
    "First, lets reload some data from LIGO Hanford around GW170817:"
   ]
  },
  {
   "cell_type": "code",
   "execution_count": null,
   "metadata": {
    "Collapsed": "false",
    "colab": {
     "base_uri": "https://localhost:8080/",
     "height": 52
    },
    "colab_type": "code",
    "id": "v7CUjOg-yGtW",
    "outputId": "d769efec-3e45-486c-b912-03ef2dae9fde"
   },
   "outputs": [],
   "source": [
    "segment = (int(gps) - 30, int(gps) + 2)\n",
    "hdata = TimeSeries.fetch_open_data('H1', *segment, verbose=True, cache=True)"
   ]
  },
  {
   "cell_type": "markdown",
   "metadata": {
    "Collapsed": "false",
    "colab_type": "text",
    "id": "cxWoIkGFyGtY"
   },
   "source": [
    "We can now use the `q_transform()` method of the `hdata` `TimeSeries` to create our time-frequency representation (as a [spectrogram](https://gwpy.github.io/docs/stable/spectrogram/))."
   ]
  },
  {
   "cell_type": "code",
   "execution_count": null,
   "metadata": {
    "Collapsed": "false",
    "colab": {
     "base_uri": "https://localhost:8080/",
     "height": 419
    },
    "colab_type": "code",
    "id": "Bg0nmye5yGtZ",
    "outputId": "004ac596-0397-462b-9db4-6bb47cbe380d"
   },
   "outputs": [],
   "source": [
    "hq = hdata.q_transform(frange=(30, 500))\n",
    "plot = hq.plot()\n",
    "plot.colorbar(label=\"Normalised energy\")"
   ]
  },
  {
   "cell_type": "markdown",
   "metadata": {
    "Collapsed": "false",
    "colab_type": "text",
    "id": "rhDe-foRyGtb"
   },
   "source": [
    "From this we can see a different representation of the data. Because the Q-transform returns (by default) normalised energy, the low-frequency rumbling is now much less obvious, and we can see better some noises at higher frequencies.\n",
    "\n",
    "But, we can clean up the display to better visualise the data:"
   ]
  },
  {
   "cell_type": "code",
   "execution_count": null,
   "metadata": {
    "Collapsed": "false",
    "colab": {
     "base_uri": "https://localhost:8080/",
     "height": 401
    },
    "colab_type": "code",
    "id": "Q9Xm3TQnyGte",
    "outputId": "fa62718a-f306-4948-fc5d-79585f01ff37"
   },
   "outputs": [],
   "source": [
    "ax = plot.gca()\n",
    "ax.set_epoch(gps)\n",
    "ax.set_ylim(30, 500)\n",
    "ax.set_yscale(\"log\")\n",
    "plot  # refresh"
   ]
  },
  {
   "cell_type": "markdown",
   "metadata": {
    "Collapsed": "false",
    "colab_type": "text",
    "id": "Tb4RaTq5yGtg"
   },
   "source": [
    "Now we can see a more prominent feature starting at ~-6 seconds that looks a little familiar.\n",
    "Here we can use our knowledge of the Q-transform, and our hunch about the origin of the 'feature' to choose a more specific range of 'Q' for the Q-transform, so as to better resolve the feature:"
   ]
  },
  {
   "cell_type": "code",
   "execution_count": null,
   "metadata": {
    "Collapsed": "false",
    "colab": {
     "base_uri": "https://localhost:8080/",
     "height": 419
    },
    "colab_type": "code",
    "id": "1sEYkTq4yGth",
    "outputId": "ab13c0ac-254b-4f0a-df2a-0ee42ac9fee5"
   },
   "outputs": [],
   "source": [
    "hq = hdata.q_transform(frange=(30, 500), qrange=(100, 110))\n",
    "plot = hq.plot()\n",
    "ax = plot.gca()\n",
    "ax.set_epoch(gps)\n",
    "ax.set_yscale('log')\n",
    "ax.colorbar(label=\"Normalised energy\")"
   ]
  },
  {
   "cell_type": "markdown",
   "metadata": {
    "Collapsed": "false",
    "colab_type": "text",
    "id": "GHKCFAM5yGtk"
   },
   "source": [
    "Now we see the beautiful, clear track of a BNS merger, visible from about -4 seconds (maye -10 if you squint), all the way through to the merger at T=0.\n",
    "\n",
    "HINT: We can also use the `outseg` option to zoom in around the merger:"
   ]
  },
  {
   "cell_type": "code",
   "execution_count": null,
   "metadata": {},
   "outputs": [],
   "source": [
    "#-- Use OUTSEG for small time range\n",
    "hq2 = hdata.q_transform(frange=(30, 500), qrange=(80, 110), outseg=(gps-3,gps+0.5)) \n",
    "plot = hq2.plot()\n",
    "ax = plot.gca()\n",
    "ax.set_epoch(gps)\n",
    "ax.set_yscale('log')\n",
    "ax.colorbar(label=\"Normalised energy\")"
   ]
  },
  {
   "cell_type": "markdown",
   "metadata": {},
   "source": [
    "We can repeat the exercise using LIGO-Livingston data to see something even more remarkable.\n",
    "First we download and filter the Livingston data:"
   ]
  },
  {
   "cell_type": "code",
   "execution_count": null,
   "metadata": {
    "Collapsed": "false",
    "colab": {
     "base_uri": "https://localhost:8080/",
     "height": 52
    },
    "colab_type": "code",
    "id": "_w620sAMyGtk",
    "outputId": "32a4d11b-a328-4fe1-dcb5-ba1126542994"
   },
   "outputs": [],
   "source": [
    "ldata = TimeSeries.fetch_open_data('L1', *segment, verbose=True)"
   ]
  },
  {
   "cell_type": "code",
   "execution_count": null,
   "metadata": {
    "Collapsed": "false",
    "colab": {
     "base_uri": "https://localhost:8080/",
     "height": 431
    },
    "colab_type": "code",
    "id": "x3HOzbP6yGtm",
    "outputId": "e1d4fa9f-f414-4416-adb9-e613e17394d8"
   },
   "outputs": [],
   "source": [
    "lq = ldata.q_transform(frange=(30, 500), qrange=(100, 110))\n",
    "plot = lq.plot()\n",
    "ax = plot.gca()\n",
    "ax.set_epoch(gps)\n",
    "ax.set_yscale('log')\n",
    "ax.colorbar(label=\"Normalised energy\")"
   ]
  },
  {
   "cell_type": "markdown",
   "metadata": {
    "Collapsed": "false",
    "colab_type": "text",
    "id": "XqEg99-iyGtp"
   },
   "source": [
    "Now we can see a large blob of energy that is 1000 times louder than what we see in the LIGO-Hanford data.\n",
    "As luck would have it, an instrumental glitch almost exactly overlaps the BNS signal in LIGO-Livingston.\n",
    "But, we can rescale things to see the astrophyscal signal better:"
   ]
  },
  {
   "cell_type": "code",
   "execution_count": null,
   "metadata": {
    "Collapsed": "false",
    "colab": {
     "base_uri": "https://localhost:8080/",
     "height": 401
    },
    "colab_type": "code",
    "id": "Nzu_7NOayGtq",
    "outputId": "acd7abb7-7737-4490-89d0-ff520e0aaca4"
   },
   "outputs": [],
   "source": [
    "plot.colorbars[0].mappable.set_clim(0,20)\n",
    "plot.refresh()\n",
    "plot"
   ]
  },
  {
   "cell_type": "markdown",
   "metadata": {
    "Collapsed": "false",
    "colab_type": "text",
    "id": "Ar050hePyGtu"
   },
   "source": [
    "Now we can see the BNS signal track all the way back to T=-28 seconds in LIGO-Livingston data!\n",
    " \n",
    "This is basically the same procedure (and the same code) that was used to produce Figures 1 and 2 of the BNS discovery article '_Observation of Gravitational Waves from a Binary Neutron Star Inspiral_' [[link](https://doi.org/10.1103/PhysRevLett.119.161101)]"
   ]
  },
  {
   "cell_type": "markdown",
   "metadata": {
    "Collapsed": "false"
   },
   "source": [
    "## Q-scan challenge! \n",
    "\n",
    "- download the data for all detectors involved with the GW170814 detection. Which detectors registered this event? \n",
    "- generate a Q-scan for the data in each detector. (Hint: try using a much smaller time range and Q-range than you did for GW170817) "
   ]
  }
 ],
 "metadata": {
  "colab": {
   "name": "Tuto 1.3 Q-transforms with GWpy.ipynb",
   "provenance": []
  },
  "kernelspec": {
   "display_name": "igwn-py38",
   "language": "python",
   "name": "igwn-py38"
  },
  "language_info": {
   "codemirror_mode": {
    "name": "ipython",
    "version": 3
   },
   "file_extension": ".py",
   "mimetype": "text/x-python",
   "name": "python",
   "nbconvert_exporter": "python",
   "pygments_lexer": "ipython3",
   "version": "3.8.6"
  }
 },
 "nbformat": 4,
 "nbformat_minor": 4
}
