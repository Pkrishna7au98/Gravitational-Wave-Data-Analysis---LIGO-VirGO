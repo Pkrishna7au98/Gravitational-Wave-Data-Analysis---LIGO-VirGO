{
 "cells": [
  {
   "cell_type": "markdown",
   "metadata": {
    "Collapsed": "false",
    "colab_type": "text",
    "id": "_aI2xJ4qzarB"
   },
   "source": [
    "<img style=\"float: left;padding: 1.3em\" src=\"https://indico.in2p3.fr/event/18313/logo-786578160.png\">  \n",
    "\n",
    "#  Gravitational Wave Open Data Workshop #4\n",
    "\n",
    "\n",
    "#### Tutorial 1.4: Generating Waveforms\n",
    "\n",
    "This tutorial shows how to numerically obtain the gravitational waveform radiated during a compact binary coalescence, assuming the basic parameters of the binary are known.\n",
    "\n",
    "We will be using the [PyCBC](http://github.com/ligo-cbc/pycbc) library, which provides an easy-to-use Python interface to obtain such waveforms. PyCBC can more generally be used to analyze or simulate gravitational-wave data, find or simulate astrophysical signals from compact binary mergers, and study their parameters. It is one of the tools routinely used by groups within and outside of the LIGO and Virgo collaborations. Additional [examples](http://pycbc.org/pycbc/latest/html/#library-examples-and-interactive-tutorials) and module level documentation are [here](http://pycbc.org/pycbc/latest/html/py-modindex.html).\n",
    "\n",
    "[Click this link to view this tutorial in Google Colaboratory](https://colab.research.google.com/github/gw-odw/odw-2021/blob/master/Day_1/Tuto%201.4%20Generating%20waveforms.ipynb)"
   ]
  },
  {
   "cell_type": "markdown",
   "metadata": {
    "Collapsed": "false",
    "colab_type": "text",
    "id": "1wcq0imbzarE"
   },
   "source": [
    "##  Installation  (execute only if running on a cloud platform or if you haven't done the installation already!)\n",
    "\n",
    "PyCBC is installable through pip. It relies on portions of the [LALSuite]() C-library. A bundled version of this suitable for use with PyCBC is also available on Mac / Linux through pip. **It is recommended** to use [conda](https://docs.ligo.org/lscsoft/conda/) on your own machine, as explained in the [installation instructions](https://github.com/gw-odw/odw-2019/blob/master/setup.md). This usage might look a little different than normal, simply because we want to do this directly from the notebook."
   ]
  },
  {
   "cell_type": "code",
   "execution_count": null,
   "metadata": {
    "Collapsed": "false",
    "colab": {
     "base_uri": "https://localhost:8080/",
     "height": 1000
    },
    "colab_type": "code",
    "id": "UfyiwG64zarG",
    "outputId": "123979cf-adbf-4144-ff8a-25c26625ee95"
   },
   "outputs": [],
   "source": [
    "# -- Uncomment following line if running in Google Colab\n",
    "# ! pip install -q 'PyCBC==1.18.0' 'lalsuite==6.82'"
   ]
  },
  {
   "cell_type": "markdown",
   "metadata": {
    "Collapsed": "false",
    "colab_type": "text",
    "id": "wHDzqNw3zarK"
   },
   "source": [
    "**Important:** With Google Colab, you may need to restart the runtime after running the cell above."
   ]
  },
  {
   "cell_type": "markdown",
   "metadata": {
    "Collapsed": "false",
    "colab_type": "text",
    "id": "HwA6949mzarL"
   },
   "source": [
    "## Initialization"
   ]
  },
  {
   "cell_type": "code",
   "execution_count": null,
   "metadata": {
    "Collapsed": "false",
    "colab": {},
    "colab_type": "code",
    "id": "0brf1i5ZzarM"
   },
   "outputs": [],
   "source": [
    "%matplotlib inline\n",
    "\n",
    "from pycbc.waveform import get_td_waveform\n",
    "import pylab"
   ]
  },
  {
   "cell_type": "markdown",
   "metadata": {
    "Collapsed": "false",
    "colab_type": "text",
    "id": "u9i3C2HAzarT"
   },
   "source": [
    "### Generate your first waveform!\n",
    "\n",
    "Here we'll generate the gravitational waveform using one of the available waveform approximants. The waveform can be generated as a time series using [`get_td_waveform()`](http://pycbc.org/pycbc/latest/html/pycbc.waveform.html#pycbc.waveform.waveform.get_td_waveform). There are some additional examples using this interface [here](http://pycbc.org/pycbc/latest/html/waveform.html). The key parameters are the masses of the binary (given in solar masses), the time between samples (in seconds), the starting gravitational-wave frequency (Hz) and the name of the approximant we'd like to use. A variety of approximants are available that include different physical effects.\n",
    "\n",
    "In this example, we've chosen to use the 'SEOBNRv4_opt' approximant. This is an implementation of the model introduced [in this paper](https://arxiv.org/pdf/1611.03703.pdf). It models the gravitational waveform of inspiralling and merging black holes, and includes the ability for each black hole to spin in the same direction as the orbit (aligned spin).\n",
    "\n",
    "There are many other models available, with different methodologies employed and physical effects modelled. A full review of the models is outside of the scope of this tutorial."
   ]
  },
  {
   "cell_type": "code",
   "execution_count": null,
   "metadata": {
    "Collapsed": "false",
    "colab": {
     "base_uri": "https://localhost:8080/",
     "height": 563
    },
    "colab_type": "code",
    "id": "B4AIf_PzzarU",
    "outputId": "1c52b87a-6ece-45e6-c5f2-4e640dca6006"
   },
   "outputs": [],
   "source": [
    "# The outputs of this function are the \"plus\" and \"cross\" polarizations \n",
    "# of the gravitational-wave signal as viewed from the line of sight at \n",
    "# a given source inclination (assumed face-on, i.e. zero inclination\n",
    "# if not provided)\n",
    "hp, hc = get_td_waveform(approximant=\"SEOBNRv4_opt\",\n",
    "                         mass1=10,\n",
    "                         mass2=10,\n",
    "                         delta_t=1.0/16384,\n",
    "                         f_lower=30)\n",
    "\n",
    "pylab.figure(figsize=pylab.figaspect(0.4))\n",
    "pylab.plot(hp.sample_times, hp, label='Plus Polarization')\n",
    "pylab.plot(hp.sample_times, hc, label='Cross Polarization')\n",
    "pylab.xlabel('Time (s)')\n",
    "pylab.ylabel('Strain')\n",
    "pylab.legend()\n",
    "pylab.grid()\n",
    "pylab.show()\n",
    "\n",
    "# Zoom in near the merger time\n",
    "pylab.figure(figsize=pylab.figaspect(0.4))\n",
    "pylab.plot(hp.sample_times, hp, label='Plus Polarization')\n",
    "pylab.plot(hp.sample_times, hc, label='Cross Polarization')\n",
    "pylab.xlabel('Time (s)')\n",
    "pylab.ylabel('Strain')\n",
    "pylab.xlim(-.01, .01)\n",
    "pylab.legend()\n",
    "pylab.grid()\n",
    "pylab.show()"
   ]
  },
  {
   "cell_type": "markdown",
   "metadata": {
    "Collapsed": "false",
    "colab_type": "text",
    "id": "aiujHxRnzarW"
   },
   "source": [
    "We can see that in the this case, the two polarizations differ only by the phase of the signal. This is a known property of the signal, when the orbital plane of the binary does not precess (i.e. the individual black holes spins are aligned with the orbital angular momentum). In the zoom-in plot, we can see the merger itself and the ringdown that follows."
   ]
  },
  {
   "cell_type": "markdown",
   "metadata": {
    "Collapsed": "false",
    "colab_type": "text",
    "id": "mq4ZxvT1zarX"
   },
   "source": [
    "### How does the waveform change with the mass of the binary?\n",
    "\n",
    "Below you can see how the length of the waveform increases for lower-mass binary mergers."
   ]
  },
  {
   "cell_type": "code",
   "execution_count": null,
   "metadata": {
    "Collapsed": "false",
    "colab": {
     "base_uri": "https://localhost:8080/",
     "height": 290
    },
    "colab_type": "code",
    "id": "rs_mCbJ6zarY",
    "outputId": "82a732c0-e891-4d42-e906-f1d8d22f78b5"
   },
   "outputs": [],
   "source": [
    "# Component mass of each binary component. We'll simplify here and assume that each \n",
    "# component of the binary has the same mass. Again, units are in solar masses.\n",
    "pylab.figure(figsize=pylab.figaspect(0.4))\n",
    "for m in [5, 10, 30, 100]:\n",
    "    hp, hc = get_td_waveform(approximant=\"SEOBNRv4_opt\",\n",
    "                         mass1=m,\n",
    "                         mass2=m,\n",
    "                         delta_t=1.0/4096,\n",
    "                         f_lower=30)\n",
    "    \n",
    "    pylab.plot(hp.sample_times, hp, label='$M_{\\odot 1,2}=%s$' % m)\n",
    "pylab.legend()\n",
    "pylab.grid()\n",
    "pylab.xlabel('Time (s)')\n",
    "pylab.ylabel('Strain')\n",
    "pylab.show()"
   ]
  },
  {
   "cell_type": "markdown",
   "metadata": {
    "Collapsed": "false",
    "colab_type": "text",
    "id": "G8WZHYc7zara"
   },
   "source": [
    "### Changing the distance of the waveform\n",
    "\n",
    "The luminosity distance of the source is also a parameter when you generate a waveform. The units used are Megaparsecs (i.e. $10^6\\mathrm{\\,pc}$). Keep in mind that no redshift effects are taken into account here, so there is a simple linear relationship between distance and amplitude."
   ]
  },
  {
   "cell_type": "code",
   "execution_count": null,
   "metadata": {
    "Collapsed": "false",
    "colab": {
     "base_uri": "https://localhost:8080/",
     "height": 290
    },
    "colab_type": "code",
    "id": "8CjpDbxtzarb",
    "outputId": "d0a99fc7-27da-405e-bfd4-47f780f659e6"
   },
   "outputs": [],
   "source": [
    "pylab.figure(figsize=pylab.figaspect(0.4))\n",
    "for d in [100, 500, 1000]:\n",
    "    hp, hc = get_td_waveform(approximant=\"SEOBNRv4_opt\",\n",
    "                         mass1=10,\n",
    "                         mass2=10,\n",
    "                         delta_t=1.0/4096,\n",
    "                         f_lower=30,\n",
    "                         distance=d)\n",
    "    \n",
    "    pylab.plot(hp.sample_times, hp, label='Distance$=%s$ Mpc' % d)\n",
    "pylab.legend()\n",
    "pylab.grid()\n",
    "pylab.xlabel('Time (s)')\n",
    "pylab.ylabel('Strain')\n",
    "pylab.show()"
   ]
  },
  {
   "cell_type": "markdown",
   "metadata": {
    "Collapsed": "false",
    "colab_type": "text",
    "id": "nK5T-2Thzard"
   },
   "source": [
    "### Exercise\n",
    "\n",
    "Generate and plot the waveform associated to the binary neutron star merger GW170817. Look up the [GWTC-1](https://www.gw-openscience.org/GWTC-1/) catalog page to obtain the estimated parameters for this source."
   ]
  },
  {
   "cell_type": "code",
   "execution_count": null,
   "metadata": {},
   "outputs": [],
   "source": []
  }
 ],
 "metadata": {
  "colab": {
   "name": "Tuto 1.4 Generating waveforms.ipynb",
   "provenance": []
  },
  "kernelspec": {
   "display_name": "Python 3",
   "language": "python",
   "name": "python3"
  },
  "language_info": {
   "codemirror_mode": {
    "name": "ipython",
    "version": 3
   },
   "file_extension": ".py",
   "mimetype": "text/x-python",
   "name": "python",
   "nbconvert_exporter": "python",
   "pygments_lexer": "ipython3",
   "version": "3.8.6"
  },
  "toc": {
   "base_numbering": 1,
   "nav_menu": {},
   "number_sections": true,
   "sideBar": true,
   "skip_h1_title": false,
   "title_cell": "Table of contents:",
   "title_sidebar": "Contents",
   "toc_cell": false,
   "toc_position": {},
   "toc_section_display": true,
   "toc_window_display": false
  }
 },
 "nbformat": 4,
 "nbformat_minor": 4
}
