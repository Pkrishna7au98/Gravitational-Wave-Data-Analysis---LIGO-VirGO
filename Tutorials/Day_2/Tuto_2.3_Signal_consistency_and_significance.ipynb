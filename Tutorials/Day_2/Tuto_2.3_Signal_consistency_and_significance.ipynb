{
 "cells": [
  {
   "cell_type": "markdown",
   "metadata": {
    "Collapsed": "false",
    "colab_type": "text",
    "id": "omeA9c5XCLJJ"
   },
   "source": [
    "<img style=\"float: left;padding: 1.3em\" src=\"https://indico.in2p3.fr/event/18313/logo-786578160.png\">  \n",
    "\n",
    "#  Gravitational Wave Open Data Workshop #4\n",
    "\n",
    "\n",
    "## Tutorial 2.3: PyCBC Tutorial, Signal Consistency and Significance\n",
    "\n",
    "We will be using the [PyCBC](http://github.com/gwastro/pycbc) library, which is used to study gravitational-wave data, find astrophysical sources due to compact binary mergers, and study their parameters. These are some of the same tools that the LIGO and Virgo collaborations use to find gravitational waves in LIGO/Virgo data \n",
    "\n",
    "In this tutorial we will walk through finding a peak in a noisy signal and estimating its significance given a simplified search. Some assumptions will be noted along the way. We will also make use of one of the standard signal consistency tests to help remove some non-Gaussian transient noise from the background.\n",
    "\n",
    "Additional [examples](http://pycbc.org/pycbc/latest/html/#library-examples-and-interactive-tutorials) and module level documentation are [here](http://pycbc.org/pycbc/latest/html/py-modindex.html)"
   ]
  },
  {
   "cell_type": "markdown",
   "metadata": {
    "Collapsed": "false",
    "colab_type": "text",
    "id": "U5rEJwqoCLJM"
   },
   "source": [
    "## Installation (execute only if running on a cloud platform!)"
   ]
  },
  {
   "cell_type": "code",
   "execution_count": null,
   "metadata": {
    "Collapsed": "false",
    "colab": {
     "base_uri": "https://localhost:8080/",
     "height": 1000
    },
    "colab_type": "code",
    "id": "5FB3HBEhCLJO",
    "outputId": "a1395fec-64fd-49bc-9525-724700b5c395"
   },
   "outputs": [],
   "source": [
    "# -- Use the following for Google Colab\n",
    "#! pip install -q 'lalsuite==6.82' 'PyCBC==1.18.0'"
   ]
  },
  {
   "cell_type": "markdown",
   "metadata": {
    "Collapsed": "false",
    "colab_type": "text",
    "id": "3266wGrJCLJS"
   },
   "source": [
    "**Important:** With Google Colab, you may need to restart the runtime after running the cell above."
   ]
  },
  {
   "cell_type": "markdown",
   "metadata": {
    "Collapsed": "false",
    "colab_type": "text",
    "id": "dCZ7ctknCLJT"
   },
   "source": [
    "### Significance of Virgo SNR peak of GW170814 ###\n",
    "\n",
    "We will estimate the significance of signal-to-noise peak observed in the Virgo instrument near in time to the large peaks observed in the LIGO-Hanford and LIGO-Livingston observatories.\n",
    "\n",
    "For this purpose we will consider a gravitational wave signal, whose existence has been confirmed based on the signals from LIGO detectors alone. This was in fact the case for the matched-filtering based analyses of GW170814, as they did not incorporate any information from the Virgo data.\n",
    "\n",
    "We ask ourselves the following question: *What is the probability that noise can produce a peak as large or larger than the largest peak observed in the Virgo data, and consistent with the lightspeed travel time between all three observatories?*\n",
    "\n",
    "This is a form of null hypothesis testing, where we compute a [p-value](https://en.wikipedia.org/wiki/P-value) to answer the question above.\n",
    "\n",
    "<!-- For the purpose of this notebook, we have added a few additional simplifying assumptions, and those will be stated as we go along. -->"
   ]
  },
  {
   "cell_type": "markdown",
   "metadata": {
    "Collapsed": "false",
    "colab_type": "text",
    "id": "KTE7hteVCLJU"
   },
   "source": [
    "#### Read and Precondition Gravitational Strain Data ####\n",
    "\n",
    "In this section, we will read in a short segment of data around GW170814, and do some basic preconditioning, as also demonstrated in previous tutorials. We will also calculate the power spectrum of the data. \n",
    "\n",
    "Notably, here we assume that the power spectrum estimated from the data is constant over the short stretch of time, and isn't biased by our choice to center the estimate (very roughly) on the event time. We *do not* assume the data to be stationary, Gaussian, or free from non-astrophysical transient artefacts."
   ]
  },
  {
   "cell_type": "code",
   "execution_count": null,
   "metadata": {
    "Collapsed": "false",
    "colab": {
     "base_uri": "https://localhost:8080/",
     "height": 343
    },
    "colab_type": "code",
    "id": "5z3RSymsCLJV",
    "outputId": "cf11d92a-42e0-43ce-cd87-d6fd18caefd3"
   },
   "outputs": [],
   "source": [
    "%matplotlib inline\n",
    "import pylab\n",
    "\n",
    "from pycbc.filter import resample_to_delta_t, highpass\n",
    "from pycbc.catalog import Merger\n",
    "from pycbc.psd import interpolate, inverse_spectrum_truncation\n",
    "\n",
    "m = Merger(\"GW170814\")\n",
    "\n",
    "ifos = ['H1', 'L1', 'V1']\n",
    "data = {}\n",
    "psd = {}\n",
    "\n",
    "pylab.figure(figsize=[10, 5])\n",
    "\n",
    "for ifo in ifos:\n",
    "    # Read in and precondition the data\n",
    "    ts = m.strain(ifo).highpass_fir(15, 512)\n",
    "    data[ifo] = resample_to_delta_t(ts, 1.0/2048).crop(2, 2)\n",
    "\n",
    "    # Estimate the power spectral density of the data\n",
    "    # This chooses to use 2s samples in the PSD estimate.\n",
    "    # One should note that the tradeoff in segment length is that\n",
    "    # resolving narrow lines becomes more difficult.\n",
    "    p = data[ifo].psd(2)\n",
    "    p = interpolate(p, data[ifo].delta_f)\n",
    "    p = inverse_spectrum_truncation(p, int(2 * data[ifo].sample_rate), low_frequency_cutoff=15.0)\n",
    "    psd[ifo] = p\n",
    "    \n",
    "    pylab.plot(psd[ifo].sample_frequencies, psd[ifo], label=ifo)\n",
    "\n",
    "pylab.yscale('log')\n",
    "pylab.xscale('log')\n",
    "pylab.ylim(1e-47, 1e-41)\n",
    "pylab.xlim(20, 1024)\n",
    "pylab.ylabel('$Strain^2 / Hz$')\n",
    "pylab.xlabel('Frequency (Hz)')\n",
    "pylab.grid()\n",
    "pylab.legend()\n",
    "pylab.show()"
   ]
  },
  {
   "cell_type": "markdown",
   "metadata": {
    "Collapsed": "false",
    "colab_type": "text",
    "id": "n8AQO8sbCLJY"
   },
   "source": [
    "#### Generate our template waveform and calculate the Signal-to-noise time series ####\n",
    "\n",
    "To calculate the signal-to-noise time series, we need to generate an estimate of the signal. For this purpose we will assume the source black holes are non spinning, have equal mass, and they agree with the total mass estimate for the system as a whole. A better method would be to use the maximum likelihood estimate from an analysis of the LIGO data alone, however, this is sufficient for the purposes of this tutorial."
   ]
  },
  {
   "cell_type": "code",
   "execution_count": null,
   "metadata": {
    "Collapsed": "false",
    "colab": {},
    "colab_type": "code",
    "id": "SHSxmiY-CLJZ"
   },
   "outputs": [],
   "source": [
    "from pycbc.waveform import get_fd_waveform\n",
    "from pycbc.filter import matched_filter\n",
    "\n",
    "# Calculate the component mass of each black hole in the detector frame\n",
    "cmass = (m.median1d(\"mass1\")+m.median1d(\"mass2\")) / 2      # This is in the source frame\n",
    "cmass *= (1 + m.median1d(\"redshift\")) # apply redshift to get to the detector frame\n",
    "\n",
    "# This is a frequency domain waveform generator. It has a very similar syntax to the time domain\n",
    "# waveform function used in prior tutorials. This function returns both a plus and a cross\n",
    "# polarization waveform, but we will just use the plus polarization in building our template\n",
    "# as these are only different by a phase offset in this specific case.\n",
    "hp, _ = get_fd_waveform(approximant=\"IMRPhenomD\",\n",
    "                         mass1=cmass, mass2=cmass,\n",
    "                         f_lower=20.0, delta_f=data[ifo].delta_f)\n",
    "hp.resize(len(psd[ifo]))\n",
    "\n",
    "# For each observatory use this template to calculate the SNR time series\n",
    "snr = {}\n",
    "for ifo in ifos:\n",
    "    snr[ifo] = matched_filter(hp, data[ifo], psd=psd[ifo], low_frequency_cutoff=20)\n",
    "    snr[ifo] = snr[ifo].crop(5, 4)"
   ]
  },
  {
   "cell_type": "code",
   "execution_count": null,
   "metadata": {
    "Collapsed": "false",
    "colab": {
     "base_uri": "https://localhost:8080/",
     "height": 573
    },
    "colab_type": "code",
    "id": "ysNrumWSCLJe",
    "outputId": "589c978c-a92b-4e37-ddda-003e4307a003"
   },
   "outputs": [],
   "source": [
    "# Show a couple sizes\n",
    "for w, title in [(8, 'Wide View'), (.15, 'Close to GW170814')]:\n",
    "    pylab.figure(figsize=[14, 4])\n",
    "    for ifo in ifos:\n",
    "        pylab.plot(snr[ifo].sample_times, abs(snr[ifo]), label=ifo)\n",
    "\n",
    "    pylab.legend()\n",
    "    pylab.title(title)\n",
    "    pylab.grid()\n",
    "    pylab.xlim(m.time - w, m.time + w)\n",
    "    pylab.ylim(0, 15)\n",
    "    pylab.xlabel('Time (s)')\n",
    "    pylab.ylabel('Signal-to-noise (SNR)')\n",
    "    pylab.show()"
   ]
  },
  {
   "cell_type": "markdown",
   "metadata": {
    "Collapsed": "false",
    "colab_type": "text",
    "id": "JDTw54T5CLJh"
   },
   "source": [
    "We see in the SNR time series plots above, that while there are nice peaks around GW170814 in each detector, there are also some large peaks at other times. LIGO / Virgo data, does contain transient (i.e limited duration) noise artefacts that an analyses must deal with to search LIGO data with high sensitivity. One approach for dealing with this is outlined later in this tutorial."
   ]
  },
  {
   "cell_type": "markdown",
   "metadata": {
    "Collapsed": "false",
    "colab_type": "text",
    "id": "yJ6CIGdACLJi"
   },
   "source": [
    "#### How well is the data actually fitting our model? ####\n",
    "\n",
    "One of the ways we can test how well the data actual fits the models to use a $\\chi^2$-based signal consistency test. We employ a version of the test described [in this paper](https://arxiv.org/pdf/gr-qc/0405045.pdf). Schematically, we chop up our template into $p$ number of bins and see how much each contributes to the SNR ($\\rho_i$). We can then calculate our statistic as the difference between the SNR in one bin, and the expected fraction of the total SNR ($\\rho$).\n",
    "\n",
    "$\n",
    "\\chi^2 = \\sum^p_{i=0} (\\rho_i - \\rho / p)^2\n",
    "$\n",
    "\n",
    "This will have $2p-2$ degrees of freedom as each SNR is *complex* representing both possible orthogonal phases the signal could have contributions from. There is also a constraint due to the fact that the sum of each bin must each add up to the total SNR by definition. In this notebook we will normalize this statistic by dividing by the number of degrees of freedom, producing $\\chi^2_r$.\n",
    "\n",
    "We expect that this statistic will be high when the template does not match well with the data, and near unity when the data either is Gaussian noise, or it contains the expected signal in addition to Gaussian noise."
   ]
  },
  {
   "cell_type": "code",
   "execution_count": null,
   "metadata": {
    "Collapsed": "false",
    "colab": {},
    "colab_type": "code",
    "id": "Zk2SkSZlCLJj"
   },
   "outputs": [],
   "source": [
    "# WARNING!! If you are having problems with this code, replace the import with\n",
    "#from pycbc_chisq import power_chisq\n",
    "from pycbc.vetoes import power_chisq\n",
    "\n",
    "chisq = {}\n",
    "for ifo in ifos:\n",
    "    # The number of bins to use. In principle, this choice is arbitrary. In practice,\n",
    "    # this is empirically tuned.\n",
    "    nbins = 26\n",
    "    chisq[ifo] = power_chisq(hp, data[ifo], nbins, psd[ifo], low_frequency_cutoff=20.0)\n",
    "    chisq[ifo] = chisq[ifo].crop(5, 4)\n",
    "    \n",
    "    dof = nbins * 2 - 2\n",
    "    chisq[ifo] /= dof"
   ]
  },
  {
   "cell_type": "code",
   "execution_count": null,
   "metadata": {
    "Collapsed": "false",
    "colab": {
     "base_uri": "https://localhost:8080/",
     "height": 282
    },
    "colab_type": "code",
    "id": "Pj4cS9DkCLJn",
    "outputId": "22d6a5c6-0140-4bb0-b46a-24e913ce91fd",
    "scrolled": true
   },
   "outputs": [],
   "source": [
    "pylab.figure(figsize=[14, 4])\n",
    "\n",
    "for ifo in ifos:\n",
    "    pylab.plot(chisq[ifo].sample_times, chisq[ifo], label=ifo)\n",
    "    \n",
    "pylab.legend()\n",
    "pylab.grid()\n",
    "pylab.xlim(m.time -0.15, m.time + 0.15)\n",
    "pylab.ylim(0, 5)\n",
    "pylab.ylabel('$chi^2_r$')\n",
    "pylab.show()"
   ]
  },
  {
   "cell_type": "markdown",
   "metadata": {
    "Collapsed": "false",
    "colab_type": "text",
    "id": "GZhZPz5LCLJq"
   },
   "source": [
    "There are some notable features in the $\\chi^2_r$ time series. We see that there is a dip in the value at the time of the peak in the SNR in each observatory. We expect this as the template now aligns with the signal in the data. Also, the values climb just around this minima. This occurs because the template is starting to slide against the true signal in the data but is not perfectly aligned with it."
   ]
  },
  {
   "cell_type": "markdown",
   "metadata": {
    "Collapsed": "false",
    "colab_type": "text",
    "id": "mD4UI9ALCLJq"
   },
   "source": [
    "#### Re-weighting our SNR to help down-weight times that don't fit our signal ####\n",
    "\n",
    "One approach we can take is to down-weight the times where the data does not appear as either Guassian noise or Gaussian noise + our template. We can do this be combining the SNR time series and our $\\chi^2_r$ time series as follows. This is a method used to re-weight SNR since initial LIGO, and has been employed in the first two Advanced LIGO observing runs. In this tutorial we will choose to rank our events by this statistic. \n",
    "\n",
    "$\\hat{\\rho} = \\frac{\\rho}{ [1 + (\\chi^2_r)^3]^{1/6}}$ where $\\chi^2 > 1$, otherwise $\\rho$\n",
    "\n",
    "For reference on how we rank coincident (i.e. occuring in multiple detector) events in Advanced LIGO, there is a description [here](http://iopscience.iop.org/article/10.3847/1538-4357/aa8f50/pdf)."
   ]
  },
  {
   "cell_type": "code",
   "execution_count": null,
   "metadata": {
    "Collapsed": "false",
    "colab": {
     "base_uri": "https://localhost:8080/",
     "height": 573
    },
    "colab_type": "code",
    "id": "MKJV5tv1CLJs",
    "outputId": "ab848af4-35a1-4de8-e79f-6d336c4b7051"
   },
   "outputs": [],
   "source": [
    "from pycbc.events.ranking import newsnr\n",
    "\n",
    "# The rho-hat term above is named \"newsnr\" here\n",
    "nsnr = {ifo:newsnr(abs(snr[ifo]), chisq[ifo]) for ifo in ifos}\n",
    "\n",
    "# Show a couple sizes\n",
    "for w, title in [(8, 'Wide View'), (.15, 'Close to GW170814')]:\n",
    "    pylab.figure(figsize=[14, 4])\n",
    "    for ifo in ifos:\n",
    "        pylab.plot(snr[ifo].sample_times, nsnr[ifo], label=ifo)\n",
    "\n",
    "    pylab.legend()\n",
    "    pylab.title(title)\n",
    "    pylab.grid()\n",
    "    pylab.xlim(m.time - w, m.time + w)\n",
    "    pylab.ylim(0, 15)\n",
    "    pylab.xlabel('Time (s)')\n",
    "    pylab.ylabel('Re-weighted Signal-to-noise')\n",
    "    pylab.show()"
   ]
  },
  {
   "cell_type": "markdown",
   "metadata": {
    "Collapsed": "false",
    "colab_type": "text",
    "id": "EYp1ZppWCLJw"
   },
   "source": [
    "We can see above that there are still peaks around GW170814 in all detectors, at roughly the same signal strength, but that at other times, where that had been peaks in the time series, there are no longer large statistic values."
   ]
  },
  {
   "cell_type": "markdown",
   "metadata": {
    "Collapsed": "false",
    "colab_type": "text",
    "id": "6v4oj4T1CLJx"
   },
   "source": [
    "#### Calculating the background and significance ####\n",
    "\n",
    "In this section we will determine how significant the peak in the virgo re-weighted SNR time series is. \n",
    "\n",
    "We will do this first by determining where one might expect a peak relative to the LIGO observed peaks. This is set by the constraint that an astrophysical source can only cause delays between observatories no larger than the light travel time between them. The [`pycbc.detector.Detector`](http://pycbc.org/pycbc/latest/html/pycbc.html#pycbc.detector.Detector) class provides some convenient methods to ask these sorts of questions.\n",
    "\n",
    "We will then calculate the peak in the SNR for this window around the LIGO observed peaks. This is our \"on-source\". \n",
    "\n",
    "Finally, to determine the significance of the on-source we will compare how likely it is for a peak as large or larger to appear in the background. Our background will be empirically measured by taking portions of the SNR time series from the \"off-source\" i.e. times that do not overlap the on-source. An important criteria to avoid a biased significance estimate is that the background and experiment be performed in the same manner."
   ]
  },
  {
   "cell_type": "code",
   "execution_count": null,
   "metadata": {
    "Collapsed": "false",
    "colab": {
     "base_uri": "https://localhost:8080/",
     "height": 297
    },
    "colab_type": "code",
    "id": "hjIUBtnuCLJx",
    "outputId": "9c308988-d696-4a4d-f1d6-28afe8b902be",
    "scrolled": true
   },
   "outputs": [],
   "source": [
    "import numpy\n",
    "from pycbc.detector import Detector\n",
    "\n",
    "# Calculate the time of flight between the Virgo detectors and each LIGO observatory\n",
    "d = Detector(\"V1\")\n",
    "tof = {}\n",
    "tof['H1'] = d.light_travel_time_to_detector(Detector(\"H1\"))\n",
    "tof['L1'] = d.light_travel_time_to_detector(Detector(\"L1\"))\n",
    "\n",
    "# Record the time of the peak in the LIGO observatories\n",
    "ptime = {}\n",
    "\n",
    "pylab.figure(figsize=[14, 4])\n",
    "for ifo in ifos:\n",
    "    \n",
    "    # shade the region around each LIGO peak that could have a peak in Virgo if from\n",
    "    # an astrophysical source\n",
    "    if ifo != 'V1':\n",
    "        ptime[ifo] = snr[ifo].sample_times[nsnr[ifo].argmax()]\n",
    "        pylab.axvspan(ptime[ifo] - tof[ifo], ptime[ifo] + tof[ifo], alpha=0.2, lw=10)\n",
    "        \n",
    "    pylab.plot(snr[ifo].sample_times, nsnr[ifo], label=ifo)\n",
    "\n",
    "# Calculate the span of time that a Virgo peak could in principle happen in from time of flight\n",
    "# considerations.\n",
    "start = ptime['H1'] - tof['H1']\n",
    "end = ptime['L1'] + tof['L1']\n",
    "\n",
    "# convert the times to indices along with how large the region is in number of samples\n",
    "window_size = int((end - start) * snr['V1'].sample_rate)\n",
    "sidx = int((start - snr['V1'].start_time) * snr['V1'].sample_rate)\n",
    "eidx = sidx + window_size\n",
    "\n",
    "# Calculate the \"on-source\" peak re-weighted (newsnr) statistic value.\n",
    "onsource = nsnr['V1'][sidx:eidx].max()\n",
    "\n",
    "pylab.legend()\n",
    "pylab.grid()\n",
    "pylab.xlim(m.time - .08, m.time + .08)\n",
    "pylab.ylim(0, 15)\n",
    "pylab.xlabel('Time (s)')\n",
    "pylab.ylabel('Re-weighted Signal-to-noise')\n",
    "pylab.show()\n",
    "\n",
    "print('Virgo Peak has a statistic value of {}'.format(onsource))"
   ]
  },
  {
   "cell_type": "markdown",
   "metadata": {
    "Collapsed": "false",
    "colab_type": "text",
    "id": "DHLZIDeFCLJ0"
   },
   "source": [
    "In the plot above we see the re-weighted SNR time series. On top of that we've shaded the regions which are consistent with a Virgo signal based on the peaks in the LIGO observatories. Only in the darker region, is it possible to have a peak in the SNR that is consistent with both LIGO observatories."
   ]
  },
  {
   "cell_type": "code",
   "execution_count": null,
   "metadata": {
    "Collapsed": "false",
    "colab": {},
    "colab_type": "code",
    "id": "D9_fJTDvCLJ0"
   },
   "outputs": [],
   "source": [
    "# Now that we've calculated the onsource peak, we should calculate the background peak values.\n",
    "# We do this by chopping up the time series into chunks that are the same size as our\n",
    "# onsource and repeating the same peak finding (max) procedure.\n",
    "\n",
    "# Walk through the data in chunks and calculate the peak statistic value in each.\n",
    "peaks = []\n",
    "i = 0\n",
    "while i + window_size < len(nsnr['V1']):\n",
    "    p = nsnr['V1'][i:i+window_size].max()\n",
    "    peaks.append(p)\n",
    "    i += window_size\n",
    "    \n",
    "    # Skip past the onsource time\n",
    "    if abs(i - sidx) < window_size:\n",
    "        i += window_size * 2\n",
    "    \n",
    "peaks = numpy.array(peaks)"
   ]
  },
  {
   "cell_type": "code",
   "execution_count": null,
   "metadata": {
    "Collapsed": "false",
    "colab": {
     "base_uri": "https://localhost:8080/",
     "height": 465
    },
    "colab_type": "code",
    "id": "Qiym0pdVCLJ3",
    "outputId": "18ea76ef-145d-4b88-ff1e-eac594404e65"
   },
   "outputs": [],
   "source": [
    "# The p-value is just the number of samples observed in the background with a \n",
    "# value equal or higher than the onsource divided by the number of samples.\n",
    "# We can make the mapping between statistic value and p-value using our background\n",
    "# samples.\n",
    "pcurve = numpy.arange(1, len(peaks)+1)[::-1] / float(len(peaks))\n",
    "peaks.sort()\n",
    "\n",
    "pvalue = (peaks > onsource).sum() / float(len(peaks))\n",
    "\n",
    "pylab.figure(figsize=[10, 7])\n",
    "pylab.scatter(peaks, pcurve, label='Off-source (Noise Background)', color='black')\n",
    "\n",
    "pylab.axvline(onsource, label='On-source', color='red')\n",
    "pylab.axhline(pvalue, color='red')\n",
    "\n",
    "pylab.legend()\n",
    "pylab.yscale('log')\n",
    "pylab.grid()\n",
    "pylab.ylim(1e-3, 1e0)\n",
    "pylab.ylabel('p-value')\n",
    "pylab.xlabel('Re-weighted Signal-to-noise')\n",
    "\n",
    "pylab.xlim(2, 5)\n",
    "pylab.show()\n",
    "\n",
    "print(\"The p-value associated with the GW170814 peak is {}\".format(pvalue))"
   ]
  },
  {
   "cell_type": "markdown",
   "metadata": {
    "Collapsed": "false",
    "colab_type": "text",
    "id": "f9w4ucRbCLJ5"
   },
   "source": [
    "In this tutorial, we find a peak in Virgo as large as the obseved one has an approximately 2% chance of occuring due to the noise alone. Since that is a relatively low probability, we may reject the null hypothesis that the observed peak is due to noise alone. Given the simplifications of this tutorial, we find a result in agreement with the [GW170814 discovery paper](https://arxiv.org/pdf/1709.09660.pdf) which reported a p-value of 0.3%.\n",
    "\n",
    "If the signal was much louder in the Virgo data, the Virgo peak would be larger than any peak in the noise background. In this case, this method of estimating the significance would only be able to set an upper bound on the p-value of the observed peak. In order to calculate the p-value of a much larger peak, we would either need to use more background data or make additional assumptions about the background distribution. If a gravitational-wave signal is extremely loud, it is challenging to calculate the precise significance of the observed peak, but we can still be confident that the signal is very significant! "
   ]
  },
  {
   "cell_type": "markdown",
   "metadata": {
    "Collapsed": "false"
   },
   "source": [
    "## Challenge!\n",
    "\n",
    "Use the methods demonstrated above to see if you can calculate the SNR time series and re-weighted SNR timeseries in the following data set. This data set contains one signal and two glitches. At what times do you find peaks in the SNR timeseries? Which peaks are still present in the re-weighted SNR timeseries?\n",
    "\n",
    "Information that may be useful:\n",
    "\n",
    "* The signal and glitches are all placed between 100 and 120 seconds into the frame file.\n",
    "* You may assume mass1 = mass1 (equal mass) and that the component mass of the signal is 32.\n",
    "* Each file starts at gps time 0, and ends at gps time 128\n",
    "* The channel name in each file is \"H1:TEST-STRAIN\""
   ]
  },
  {
   "cell_type": "code",
   "execution_count": null,
   "metadata": {
    "Collapsed": "false"
   },
   "outputs": [],
   "source": [
    "# Download the challenge set files\n",
    "from pycbc.frame import read_frame\n",
    "import urllib.request\n",
    "\n",
    "def get_file(fname):\n",
    "    url = \"https://github.com/gw-odw/odw-2021/raw/master/Tutorials/Day_2/Data/{}\"\n",
    "    url = url.format(fname)\n",
    "    urllib.request.urlretrieve(url, fname)\n",
    "    print('Getting : {}'.format(url))\n",
    "\n",
    "files = ['PyCBC_T3_0.gwf']\n",
    "\n",
    "for fname in files:\n",
    "    get_file(fname)\n",
    "    \n",
    "\n",
    "# An example of how to read the data from these files:\n",
    "file_name = \"PyCBC_T3_0.gwf\"\n",
    "\n",
    "# LOSC bulk data typically uses the same convention for internal channels names\n",
    "# Strain is typically IFO:LOSC-STRAIN, where IFO can be H1/L1/V1.\n",
    "channel_name = \"H1:TEST-STRAIN\"\n",
    "\n",
    "start = 0\n",
    "end = start + 128\n",
    "\n",
    "ts = read_frame(file_name, channel_name, start, end)"
   ]
  },
  {
   "cell_type": "code",
   "execution_count": null,
   "metadata": {
    "Collapsed": "false"
   },
   "outputs": [],
   "source": []
  }
 ],
 "metadata": {
  "@webio": {
   "lastCommId": null,
   "lastKernelId": null
  },
  "colab": {
   "name": "Tuto_2.3_Signal_consistency_and_significance.ipynb",
   "provenance": []
  },
  "kernelspec": {
   "display_name": "igwn-py38",
   "language": "python",
   "name": "igwn-py38"
  },
  "language_info": {
   "codemirror_mode": {
    "name": "ipython",
    "version": 3
   },
   "file_extension": ".py",
   "mimetype": "text/x-python",
   "name": "python",
   "nbconvert_exporter": "python",
   "pygments_lexer": "ipython3",
   "version": "3.8.6"
  },
  "toc": {
   "base_numbering": 1,
   "nav_menu": {},
   "number_sections": true,
   "sideBar": true,
   "skip_h1_title": false,
   "title_cell": "Table of contents:",
   "title_sidebar": "Contents",
   "toc_cell": false,
   "toc_position": {},
   "toc_section_display": true,
   "toc_window_display": false
  }
 },
 "nbformat": 4,
 "nbformat_minor": 4
}
